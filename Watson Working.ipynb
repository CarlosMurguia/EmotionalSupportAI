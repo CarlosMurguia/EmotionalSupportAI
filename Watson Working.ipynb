{
 "cells": [
  {
   "cell_type": "code",
   "execution_count": 35,
   "metadata": {},
   "outputs": [],
   "source": [
    "tweets = 'All of America is in mourning over the mass murder of Jewish Americans at the Tree of Life Synagogue in Pittsburgh. We pray for those who perished and their loved ones, and our hearts go out to the brave police officers who sustained serious injuries... '"
   ]
  },
  {
   "cell_type": "code",
   "execution_count": 36,
   "metadata": {},
   "outputs": [
    {
     "name": "stdout",
     "output_type": "stream",
     "text": [
      "{\n",
      "  \"usage\": {\n",
      "    \"text_units\": 1,\n",
      "    \"text_characters\": 254,\n",
      "    \"features\": 2\n",
      "  },\n",
      "  \"language\": \"en\",\n",
      "  \"keywords\": [\n",
      "    {\n",
      "      \"text\": \"brave police officers\",\n",
      "      \"sentiment\": {\n",
      "        \"score\": 0.0,\n",
      "        \"label\": \"neutral\"\n",
      "      },\n",
      "      \"relevance\": 0.974213,\n",
      "      \"emotion\": {\n",
      "        \"sadness\": 0.399474,\n",
      "        \"joy\": 0.207451,\n",
      "        \"fear\": 0.243657,\n",
      "        \"disgust\": 0.25778,\n",
      "        \"anger\": 0.07589\n",
      "      }\n",
      "    },\n",
      "    {\n",
      "      \"text\": \"Life Synagogue\",\n",
      "      \"sentiment\": {\n",
      "        \"score\": -0.775957,\n",
      "        \"label\": \"negative\"\n",
      "      },\n",
      "      \"relevance\": 0.796251,\n",
      "      \"emotion\": {\n",
      "        \"sadness\": 0.453053,\n",
      "        \"joy\": 0.114447,\n",
      "        \"fear\": 0.092252,\n",
      "        \"disgust\": 0.450443,\n",
      "        \"anger\": 0.125563\n",
      "      }\n",
      "    }\n",
      "  ],\n",
      "  \"entities\": [\n",
      "    {\n",
      "      \"type\": \"Facility\",\n",
      "      \"text\": \"Tree of Life Synagogue\",\n",
      "      \"sentiment\": {\n",
      "        \"score\": -0.775958,\n",
      "        \"label\": \"negative\"\n",
      "      },\n",
      "      \"relevance\": 0.902999,\n",
      "      \"emotion\": {\n",
      "        \"sadness\": 0.453053,\n",
      "        \"joy\": 0.114447,\n",
      "        \"fear\": 0.092252,\n",
      "        \"disgust\": 0.450443,\n",
      "        \"anger\": 0.125563\n",
      "      },\n",
      "      \"count\": 1\n",
      "    },\n",
      "    {\n",
      "      \"type\": \"Crime\",\n",
      "      \"text\": \"murder\",\n",
      "      \"sentiment\": {\n",
      "        \"score\": -0.775957,\n",
      "        \"label\": \"negative\"\n",
      "      },\n",
      "      \"relevance\": 0.524847,\n",
      "      \"emotion\": {\n",
      "        \"sadness\": 0.453053,\n",
      "        \"joy\": 0.114447,\n",
      "        \"fear\": 0.092252,\n",
      "        \"disgust\": 0.450443,\n",
      "        \"anger\": 0.125563\n",
      "      },\n",
      "      \"count\": 1\n",
      "    }\n",
      "  ]\n",
      "}\n"
     ]
    }
   ],
   "source": [
    "import json\n",
    "from watson_developer_cloud import NaturalLanguageUnderstandingV1\n",
    "from watson_developer_cloud.natural_language_understanding_v1 \\\n",
    "  import Features, EntitiesOptions, KeywordsOptions\n",
    "\n",
    "natural_language_understanding = NaturalLanguageUnderstandingV1(\n",
    "  username='f246d7f4-d9f0-4eaf-b832-b08f063b8d65',\n",
    "  password='e5ZOMLB5730C',\n",
    "  version='2018-03-16')\n",
    "\n",
    "response = natural_language_understanding.analyze(\n",
    "  text= tweets,\n",
    "  features=Features(\n",
    "    entities=EntitiesOptions(\n",
    "      emotion=True,\n",
    "      sentiment=True,\n",
    "      limit=2),\n",
    "    keywords=KeywordsOptions(\n",
    "      emotion=True,\n",
    "      sentiment=True,\n",
    "      limit=2))).get_result()\n",
    "\n",
    "print(json.dumps(response, indent=2))"
   ]
  },
  {
   "cell_type": "code",
   "execution_count": 12,
   "metadata": {},
   "outputs": [],
   "source": []
  },
  {
   "cell_type": "code",
   "execution_count": 13,
   "metadata": {},
   "outputs": [],
   "source": []
  },
  {
   "cell_type": "code",
   "execution_count": null,
   "metadata": {},
   "outputs": [],
   "source": []
  },
  {
   "cell_type": "code",
   "execution_count": null,
   "metadata": {},
   "outputs": [],
   "source": []
  },
  {
   "cell_type": "code",
   "execution_count": null,
   "metadata": {},
   "outputs": [],
   "source": []
  }
 ],
 "metadata": {
  "kernelspec": {
   "display_name": "Python 3",
   "language": "python",
   "name": "python3"
  },
  "language_info": {
   "codemirror_mode": {
    "name": "ipython",
    "version": 3
   },
   "file_extension": ".py",
   "mimetype": "text/x-python",
   "name": "python",
   "nbconvert_exporter": "python",
   "pygments_lexer": "ipython3",
   "version": "3.6.5"
  }
 },
 "nbformat": 4,
 "nbformat_minor": 2
}
