{
 "cells": [
  {
   "cell_type": "code",
   "execution_count": 1,
   "metadata": {},
   "outputs": [],
   "source": [
    "# Dependencies\n",
    "import json\n",
    "from watson_developer_cloud import NaturalLanguageUnderstandingV1\n",
    "from watson_developer_cloud.natural_language_understanding_v1 \\\n",
    "  import Features, EntitiesOptions, KeywordsOptions, EmotionOptions\n",
    "\n",
    "import tweepy\n",
    "import time\n",
    "# import pandas as pd\n",
    "# import numpy as np\n",
    "\n",
    "# Import API Keys\n",
    "from config import (consumer_key, consumer_secret, \n",
    "                    access_token, access_token_secret)"
   ]
  },
  {
   "cell_type": "code",
   "execution_count": 2,
   "metadata": {},
   "outputs": [],
   "source": [
    "natural_language_understanding = NaturalLanguageUnderstandingV1(\n",
    "  username='f246d7f4-d9f0-4eaf-b832-b08f063b8d65',\n",
    "  password='e5ZOMLB5730C',\n",
    "  version='2018-03-16')"
   ]
  },
  {
   "cell_type": "code",
   "execution_count": 3,
   "metadata": {},
   "outputs": [],
   "source": [
    "# Twitter Credentials\n",
    "auth = tweepy.OAuthHandler(consumer_key, consumer_secret)\n",
    "auth.set_access_token(access_token, access_token_secret)\n",
    "api = tweepy.API(auth, parser=tweepy.parsers.JSONParser())"
   ]
  },
  {
   "cell_type": "code",
   "execution_count": 4,
   "metadata": {},
   "outputs": [],
   "source": [
    "# Target Term\n",
    "target_term = \"#feelingsad\""
   ]
  },
  {
   "cell_type": "code",
   "execution_count": 23,
   "metadata": {},
   "outputs": [],
   "source": [
    "# Define function\n",
    "def EmotionAnalysis():\n",
    "    \n",
    "    # Search for all tweets\n",
    "    public_tweets = api.search(target_term, count=10, result_type=\"recent\", lang=\"en\")\n",
    "    \n",
    "    analyzed_tweets = []\n",
    "    \n",
    "    # Loop through all tweets\n",
    "    for tweet in public_tweets[\"statuses\"]:\n",
    "        tweet_text = tweet[\"text\"]\n",
    "        tweet_id = tweet[\"id\"]\n",
    "        \n",
    "        if tweet_id not in analyzed_tweets:\n",
    "            analyzed_tweets.append(tweet_id)\n",
    "            response = natural_language_understanding.analyze(\n",
    "                text= tweet_text,\n",
    "                features=Features(\n",
    "                    emotion=EmotionOptions(\n",
    "                    ))).get_result()\n",
    "            \n",
    "            \n",
    "#             sadness = \n",
    "\n",
    "            \n",
    "#             if sadness > .70:\n",
    "                \n",
    "            \n",
    "#             print(\"Tweet Text: \" + tweet_text)\n",
    "#             print(\"Tweet ID: \" + str(tweet_id))\n",
    "#             print(\"Analyzed Tweets: \" + str(analyzed_tweets))\n",
    "#             print(json.dumps(response, indent=2))\n",
    "            \n",
    "            jsonified_response = json.dumps(response, indent=2)\n",
    "            \n",
    "            \n",
    "            \n",
    "#             print(jsonified_response)\n",
    "#             print(jsonified_response[2][0][0])\n",
    "#             print(jsonified_response[\"emotion\"][\"document\"][\"sadness\"])\n",
    "           \n",
    "            \n",
    "        if tweet_id in analyzed_tweets:\n",
    "            print(\"We already anayzed this tweet: \" + str(tweet_id))\n",
    "        \n",
    "\n",
    "\n"
   ]
  },
  {
   "cell_type": "code",
   "execution_count": null,
   "metadata": {},
   "outputs": [
    {
     "name": "stdout",
     "output_type": "stream",
     "text": [
      " \n",
      "We already anayzed this tweet: 1057663775501901824\n",
      " \n",
      "We already anayzed this tweet: 1057609173318295552\n",
      " \n",
      "We already anayzed this tweet: 1057591094865735680\n",
      " \n",
      "We already anayzed this tweet: 1057413182850064384\n",
      " \n",
      "We already anayzed this tweet: 1057401026482003968\n",
      " \n",
      "We already anayzed this tweet: 1057343038974963713\n",
      " \n",
      "We already anayzed this tweet: 1057248675884425216\n",
      " \n",
      "We already anayzed this tweet: 1057195005155164160\n",
      " \n",
      "We already anayzed this tweet: 1057085574253670400\n",
      " \n",
      "We already anayzed this tweet: 1057020917950361600\n"
     ]
    }
   ],
   "source": [
    "# Run function at 5 minute intervals\n",
    "while(True):\n",
    "        EmotionAnalysis()\n",
    "        time.sleep(300)"
   ]
  },
  {
   "cell_type": "code",
   "execution_count": null,
   "metadata": {},
   "outputs": [],
   "source": []
  }
 ],
 "metadata": {
  "kernelspec": {
   "display_name": "Python 3",
   "language": "python",
   "name": "python3"
  },
  "language_info": {
   "codemirror_mode": {
    "name": "ipython",
    "version": 3
   },
   "file_extension": ".py",
   "mimetype": "text/x-python",
   "name": "python",
   "nbconvert_exporter": "python",
   "pygments_lexer": "ipython3",
   "version": "3.6.5"
  }
 },
 "nbformat": 4,
 "nbformat_minor": 2
}
